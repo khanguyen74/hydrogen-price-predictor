{
 "cells": [
  {
   "cell_type": "markdown",
   "id": "f086adc4-3c4e-4125-87ac-07518cb1771f",
   "metadata": {},
   "source": [
    "## Performing basic exploratory data analysis"
   ]
  },
  {
   "cell_type": "code",
   "execution_count": 8,
   "id": "a3b3beb6-2c71-4fcc-b62f-87e382047a4d",
   "metadata": {},
   "outputs": [
    {
     "name": "stdout",
     "output_type": "stream",
     "text": [
      "         date  energy_cost  gov_policy_score  demand_index  \\\n",
      "0  2016-01-03      54.9671                 9        1.0435   \n",
      "1  2016-01-10      48.6174                 1        1.3892   \n",
      "2  2016-01-17      56.4769                10        1.1383   \n",
      "3  2016-01-24      65.2303                 7        1.2572   \n",
      "4  2016-01-31      47.6585                10        1.1610   \n",
      "\n",
      "   average_temperature  hydrogen_price  \n",
      "0                72.13         41.9657  \n",
      "1                71.68         50.7611  \n",
      "2                70.78         40.4830  \n",
      "3                82.33         47.8869  \n",
      "4                68.55         38.1190  \n",
      "shape:  (500, 6)\n",
      "columns:  Index(['date', 'energy_cost', 'gov_policy_score', 'demand_index',\n",
      "       'average_temperature', 'hydrogen_price'],\n",
      "      dtype='object')\n",
      "<class 'pandas.core.frame.DataFrame'>\n",
      "RangeIndex: 500 entries, 0 to 499\n",
      "Data columns (total 6 columns):\n",
      " #   Column               Non-Null Count  Dtype  \n",
      "---  ------               --------------  -----  \n",
      " 0   date                 500 non-null    object \n",
      " 1   energy_cost          500 non-null    float64\n",
      " 2   gov_policy_score     500 non-null    int64  \n",
      " 3   demand_index         500 non-null    float64\n",
      " 4   average_temperature  500 non-null    float64\n",
      " 5   hydrogen_price       500 non-null    float64\n",
      "dtypes: float64(4), int64(1), object(1)\n",
      "memory usage: 23.6+ KB\n",
      "None\n",
      "       energy_cost  gov_policy_score  demand_index  average_temperature  \\\n",
      "count   500.000000        500.000000    500.000000           500.000000   \n",
      "mean     50.068379          4.912000      1.021888            69.928560   \n",
      "std       9.812530          3.166118      0.211543             4.736821   \n",
      "min      17.587300          0.000000      0.478000            53.240000   \n",
      "25%      42.996900          2.000000      0.879175            66.627500   \n",
      "50%      50.127950          5.000000      1.013650            70.140000   \n",
      "75%      56.367850          7.250000      1.165175            73.092500   \n",
      "max      88.527300         10.000000      1.633500            83.500000   \n",
      "\n",
      "       hydrogen_price  \n",
      "count      500.000000  \n",
      "mean        44.588286  \n",
      "std          6.988822  \n",
      "min         26.851100  \n",
      "25%         40.014625  \n",
      "50%         45.110800  \n",
      "75%         49.304125  \n",
      "max         64.041700  \n"
     ]
    }
   ],
   "source": [
    "import pandas as pd\n",
    "from sklearn.preprocessing import StandardScaler\n",
    "\n",
    "df = pd.read_csv(\"../data/hydrogen_prices.csv\")\n",
    "print(df.head())\n",
    "print(\"shape: \", df.shape)\n",
    "print(\"columns: \", df.columns)\n",
    "print(df.info())\n",
    "print(df.describe())\n",
    "\n"
   ]
  },
  {
   "cell_type": "code",
   "execution_count": 10,
   "id": "ea9f902b-db96-49f7-8211-55f2c386ad60",
   "metadata": {},
   "outputs": [
    {
     "name": "stdout",
     "output_type": "stream",
     "text": [
      "Correlation Matrix:\n"
     ]
    },
    {
     "data": {
      "text/html": [
       "<div>\n",
       "<style scoped>\n",
       "    .dataframe tbody tr th:only-of-type {\n",
       "        vertical-align: middle;\n",
       "    }\n",
       "\n",
       "    .dataframe tbody tr th {\n",
       "        vertical-align: top;\n",
       "    }\n",
       "\n",
       "    .dataframe thead th {\n",
       "        text-align: right;\n",
       "    }\n",
       "</style>\n",
       "<table border=\"1\" class=\"dataframe\">\n",
       "  <thead>\n",
       "    <tr style=\"text-align: right;\">\n",
       "      <th></th>\n",
       "      <th>energy_cost</th>\n",
       "      <th>gov_policy_score</th>\n",
       "      <th>demand_index</th>\n",
       "      <th>average_temperature</th>\n",
       "      <th>hydrogen_price</th>\n",
       "    </tr>\n",
       "  </thead>\n",
       "  <tbody>\n",
       "    <tr>\n",
       "      <th>energy_cost</th>\n",
       "      <td>1.000000</td>\n",
       "      <td>0.041656</td>\n",
       "      <td>0.028713</td>\n",
       "      <td>0.010008</td>\n",
       "      <td>0.679667</td>\n",
       "    </tr>\n",
       "    <tr>\n",
       "      <th>gov_policy_score</th>\n",
       "      <td>0.041656</td>\n",
       "      <td>1.000000</td>\n",
       "      <td>0.066310</td>\n",
       "      <td>-0.018739</td>\n",
       "      <td>-0.475712</td>\n",
       "    </tr>\n",
       "    <tr>\n",
       "      <th>demand_index</th>\n",
       "      <td>0.028713</td>\n",
       "      <td>0.066310</td>\n",
       "      <td>1.000000</td>\n",
       "      <td>0.009097</td>\n",
       "      <td>0.432929</td>\n",
       "    </tr>\n",
       "    <tr>\n",
       "      <th>average_temperature</th>\n",
       "      <td>0.010008</td>\n",
       "      <td>-0.018739</td>\n",
       "      <td>0.009097</td>\n",
       "      <td>1.000000</td>\n",
       "      <td>0.015035</td>\n",
       "    </tr>\n",
       "    <tr>\n",
       "      <th>hydrogen_price</th>\n",
       "      <td>0.679667</td>\n",
       "      <td>-0.475712</td>\n",
       "      <td>0.432929</td>\n",
       "      <td>0.015035</td>\n",
       "      <td>1.000000</td>\n",
       "    </tr>\n",
       "  </tbody>\n",
       "</table>\n",
       "</div>"
      ],
      "text/plain": [
       "                     energy_cost  gov_policy_score  demand_index  \\\n",
       "energy_cost             1.000000          0.041656      0.028713   \n",
       "gov_policy_score        0.041656          1.000000      0.066310   \n",
       "demand_index            0.028713          0.066310      1.000000   \n",
       "average_temperature     0.010008         -0.018739      0.009097   \n",
       "hydrogen_price          0.679667         -0.475712      0.432929   \n",
       "\n",
       "                     average_temperature  hydrogen_price  \n",
       "energy_cost                     0.010008        0.679667  \n",
       "gov_policy_score               -0.018739       -0.475712  \n",
       "demand_index                    0.009097        0.432929  \n",
       "average_temperature             1.000000        0.015035  \n",
       "hydrogen_price                  0.015035        1.000000  "
      ]
     },
     "execution_count": 10,
     "metadata": {},
     "output_type": "execute_result"
    }
   ],
   "source": [
    "features = ['energy_cost', 'gov_policy_score', 'demand_index', 'average_temperature']\n",
    "scaler = StandardScaler()\n",
    "df[features] = scaler.fit_transform(df[features])\n",
    "\n",
    "correlation_matrix = df.drop(columns='date').corr()\n",
    "\n",
    "print(\"Correlation Matrix:\")\n",
    "correlation_matrix"
   ]
  },
  {
   "cell_type": "markdown",
   "id": "d76b66f2-be3b-4654-94a1-10316e5750c4",
   "metadata": {},
   "source": [
    " **During exploratory data analysis (EDA), we found that average_temperature had minimal correlation with both the target and other features, indicating it doesn’t contribute meaningfully to predicting hydrogen prices. As a result, it is a candidate for removal in the feature selection process.**"
   ]
  },
  {
   "cell_type": "markdown",
   "id": "3abed116-caea-4bc9-aa7f-55781c2e7a51",
   "metadata": {},
   "source": [
    "## Data preprocessing"
   ]
  },
  {
   "cell_type": "code",
   "execution_count": 11,
   "id": "8096bc40-eba9-4759-a5c4-4fa0dd82190c",
   "metadata": {},
   "outputs": [],
   "source": [
    "import pandas as pd\n",
    "from sklearn.model_selection import train_test_split\n",
    "from sklearn.preprocessing import StandardScaler\n",
    "from sklearn.linear_model import LinearRegression\n",
    "from sklearn.tree import DecisionTreeRegressor\n",
    "from sklearn.ensemble import RandomForestRegressor\n",
    "from sklearn.metrics import mean_absolute_error, mean_squared_error, r2_score\n",
    "\n",
    "# Load and preprocess data\n",
    "def load_data(path):\n",
    "    df = pd.read_csv(path)\n",
    "    df.dropna(inplace=True)\n",
    "    df.drop_duplicates(inplace=True)\n",
    "    X = df.drop(columns=[\"date\", \"hydrogen_price\", \"average_temperature\"])\n",
    "    y = df[\"hydrogen_price\"]\n",
    "    scaler = StandardScaler()\n",
    "    X_scaled = scaler.fit_transform(X)\n",
    "    return X_scaled, y, scaler\n",
    "\n",
    "# Train and evaluate multiple models\n",
    "def evaluate_models(X_train, y_train, X_test, y_test):\n",
    "    models = {\n",
    "        \"Linear Regression\": LinearRegression(),\n",
    "        \"Decision Tree\": DecisionTreeRegressor(random_state=42),\n",
    "        \"Random Forest\": RandomForestRegressor(n_estimators=100, random_state=42)\n",
    "    }\n",
    "\n",
    "    results = []\n",
    "\n",
    "    for name, model in models.items():\n",
    "        model.fit(X_train, y_train)\n",
    "        preds = model.predict(X_test)\n",
    "        mae = mean_absolute_error(y_test, preds)\n",
    "        rmse = mean_squared_error(y_test, preds)\n",
    "        r2 = r2_score(y_test, preds)\n",
    "\n",
    "        results.append({\n",
    "            \"Model\": name,\n",
    "            \"MAE\": mae,\n",
    "            \"RMSE\": rmse,\n",
    "            \"R2 Score\": r2\n",
    "        })\n",
    "    return pd.DataFrame(results).sort_values(by=\"RMSE\")\n"
   ]
  },
  {
   "cell_type": "code",
   "execution_count": 12,
   "id": "5506e929-ea12-454f-9323-3b9d13953a35",
   "metadata": {},
   "outputs": [
    {
     "name": "stdout",
     "output_type": "stream",
     "text": [
      "\n",
      "Model Comparison Results:\n",
      "\n",
      "            Model      MAE      RMSE  R2 Score\n",
      "Linear Regression 1.482624  3.729088  0.914728\n",
      "    Random Forest 1.800342  5.643280  0.870957\n",
      "    Decision Tree 2.768175 13.801297  0.684409\n"
     ]
    }
   ],
   "source": [
    "X, y, scaler = load_data(\"../data/hydrogen_prices.csv\")\n",
    "\n",
    "X_train, X_test, y_train, y_test = train_test_split(X, y, test_size=0.2, random_state=42)\n",
    "\n",
    "results_df = evaluate_models(X_train, y_train, X_test, y_test)\n",
    "print(\"\\nModel Comparison Results:\\n\")\n",
    "print(results_df.to_string(index=False))"
   ]
  },
  {
   "cell_type": "markdown",
   "id": "c85932a3-aded-421d-b1e3-00bc15989810",
   "metadata": {},
   "source": [
    "### Model Analysis\n",
    "\n",
    "- Linear Regression performed the best overall with the lowest MAE and RMSE, and the highest R2 score. This indicates that a simple linear model is effective at capturing the relationships in the data.\n",
    "- Random Forest offered reasonable performance, but slightly underperformed compared to linear regression. It may be overfitting or not benefiting as much from the dataset size or feature simplicity.\n",
    "- Decision Tree performed the worst, showing signs of overfitting (low bias, high variance), which is reflected in the high RMSE and low R2 score.\n",
    "\n",
    "#### Conclusion\n",
    "Linear Regression was chosen for deployment due to its strong performance, simplicity, and interpretability.\n"
   ]
  }
 ],
 "metadata": {
  "kernelspec": {
   "display_name": "Python 3 (ipykernel)",
   "language": "python",
   "name": "python3"
  },
  "language_info": {
   "codemirror_mode": {
    "name": "ipython",
    "version": 3
   },
   "file_extension": ".py",
   "mimetype": "text/x-python",
   "name": "python",
   "nbconvert_exporter": "python",
   "pygments_lexer": "ipython3",
   "version": "3.12.7"
  }
 },
 "nbformat": 4,
 "nbformat_minor": 5
}
